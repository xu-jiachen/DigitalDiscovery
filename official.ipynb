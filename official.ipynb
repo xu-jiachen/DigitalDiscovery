{
 "cells": [
  {
   "cell_type": "code",
   "execution_count": 7,
   "metadata": {
    "collapsed": true
   },
   "outputs": [],
   "source": [
    "from WF_SDK import device, static, supplies, logic       # import instruments\n",
    "import ctypes\n",
    "from time import sleep                            # needed for delays\n",
    "device_name = \"Analog Discovery 2\"\n",
    "#device_name = \"Digital Discovery\""
   ]
  },
  {
   "cell_type": "code",
   "execution_count": 2,
   "outputs": [],
   "source": [
    "# connect to the device\n",
    "device_data = device.open()\n",
    "device_data.name = device_name"
   ],
   "metadata": {
    "collapsed": false,
    "pycharm": {
     "name": "#%%\n"
    }
   }
  },
  {
   "cell_type": "code",
   "execution_count": 4,
   "outputs": [],
   "source": [
    "# start the positive supply\n",
    "supplies_data = supplies.data()\n",
    "supplies_data.master_state = True\n",
    "supplies_data.state = True\n",
    "supplies_data.voltage = 3.3\n",
    "supplies.switch(device_data, supplies_data)"
   ],
   "metadata": {
    "collapsed": false,
    "pycharm": {
     "name": "#%%\n"
    }
   }
  },
  {
   "cell_type": "code",
   "execution_count": 6,
   "outputs": [
    {
     "name": "stdout",
     "output_type": "stream",
     "text": [
      "<class 'int'>\n"
     ]
    }
   ],
   "source": [
    "print(type(device_data.digital.output.channel_count))\n",
    "# set all pins as output\n",
    "for index in range(16):\n",
    "    static.set_mode(device_data, index, True)\n",
    "static.set_state(device_data, 0, 1)\n",
    "\n",
    "\n",
    "#static.set_state(device_data, 1, 1)"
   ],
   "metadata": {
    "collapsed": false,
    "pycharm": {
     "name": "#%%\n"
    }
   }
  },
  {
   "cell_type": "code",
   "execution_count": 38,
   "outputs": [],
   "source": [
    "    # close the connection\n",
    "device.close(device_data)\n"
   ],
   "metadata": {
    "collapsed": false,
    "pycharm": {
     "name": "#%%\n"
    }
   }
  },
  {
   "cell_type": "code",
   "execution_count": 8,
   "outputs": [],
   "source": [
    "static.set_mode(device_data, 1, False)"
   ],
   "metadata": {
    "collapsed": false,
    "pycharm": {
     "name": "#%%\n"
    }
   }
  },
  {
   "cell_type": "code",
   "execution_count": 36,
   "outputs": [],
   "source": [
    "logic.open(device_data,sampling_frequency=200e06, buffer_size=1)\n",
    "#logic.open(device_data,sampling_frequency=10, buffer_size=1)\n",
    "# set up triggering on DIO0 falling edge\n",
    "logic.trigger(device_data, enable=False, channel=1)"
   ],
   "metadata": {
    "collapsed": false,
    "pycharm": {
     "name": "#%%\n"
    }
   }
  },
  {
   "cell_type": "code",
   "execution_count": 37,
   "outputs": [
    {
     "data": {
      "text/plain": "0"
     },
     "execution_count": 37,
     "metadata": {},
     "output_type": "execute_result"
    }
   ],
   "source": [
    "logic.record(device_data, 1)[0]\n",
    "\n",
    "\n",
    "\n",
    "\n"
   ],
   "metadata": {
    "collapsed": false,
    "pycharm": {
     "name": "#%%\n"
    }
   }
  }
 ],
 "metadata": {
  "kernelspec": {
   "display_name": "Python 3",
   "language": "python",
   "name": "python3"
  },
  "language_info": {
   "codemirror_mode": {
    "name": "ipython",
    "version": 2
   },
   "file_extension": ".py",
   "mimetype": "text/x-python",
   "name": "python",
   "nbconvert_exporter": "python",
   "pygments_lexer": "ipython2",
   "version": "2.7.6"
  }
 },
 "nbformat": 4,
 "nbformat_minor": 0
}