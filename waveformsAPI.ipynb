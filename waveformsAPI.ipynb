{
 "cells": [
  {
   "cell_type": "code",
   "execution_count": 3,
   "outputs": [],
   "source": [
    "import ctypes\n",
    "from ctypes import *\n",
    "from os import sep\n",
    "from sys import platform, path    # this is needed to check the OS type and get the PATH\n",
    "dwf = ctypes.cdll.dwf\n",
    "constants_path = \"C:\" + sep + \"Program Files (x86)\" + sep + \"Digilent\" + sep + \"WaveFormsSDK\" + sep + \"samples\" + sep + \"py\"\n",
    "path.append(constants_path)\n",
    "import dwfconstants as constants\n",
    "from dwfconstants import *\n",
    "import sys\n",
    "from pydwf import DwfLibrary\n",
    "from pydwf.utilities import openDwfDevice"
   ],
   "metadata": {
    "collapsed": false,
    "pycharm": {
     "name": "#%%\n"
    }
   }
  },
  {
   "cell_type": "code",
   "execution_count": 4,
   "outputs": [],
   "source": [
    "class digitalIn:\n",
    "  # Define the constructor of the class\n",
    "  def __init__(self, hdwf, pin_number):\n",
    "    self.hdwf = hdwf\n",
    "    self.pin_number = pin_number\n",
    "\n",
    "  # Define a method to print the car's information\n",
    "  def on(self):\n",
    "      pass\n",
    "  def off(self):\n",
    "      pass\n",
    "  def state(self, new_state):\n",
    "      pass\n",
    "  def print_info(self):\n",
    "    print(\"Make: {} Model: {} Year: {}\".format(self.pin_number, self.model, self.year))\n"
   ],
   "metadata": {
    "collapsed": false,
    "pycharm": {
     "name": "#%%\n"
    }
   }
  },
  {
   "cell_type": "code",
   "execution_count": 5,
   "outputs": [
    {
     "name": "stdout",
     "output_type": "stream",
     "text": [
      "DWF Version: b'3.20.1'\n",
      "Opening first device\n"
     ]
    },
    {
     "data": {
      "text/plain": "0"
     },
     "execution_count": 5,
     "metadata": {},
     "output_type": "execute_result"
    }
   ],
   "source": [
    "dwf = cdll.dwf\n",
    "hdwf = c_int()\n",
    "dwRead = c_uint32()\n",
    "\n",
    "version = create_string_buffer(16)\n",
    "dwf.FDwfGetVersion(version)\n",
    "print(\"DWF Version: \"+str(version.value))\n",
    "print(\"Opening first device\")\n",
    "dwf.FDwfDeviceOpen(c_int(-1), byref(hdwf))"
   ],
   "metadata": {
    "collapsed": false,
    "pycharm": {
     "name": "#%%\n"
    }
   }
  },
  {
   "cell_type": "code",
   "execution_count": 10,
   "outputs": [
    {
     "name": "stdout",
     "output_type": "stream",
     "text": [
      "failed to open device\n",
      "b'Devices are busy, used by other applications\\nFDwfDeviceOpenEx\\n'\n"
     ]
    }
   ],
   "source": [
    "if hdwf.value == hdwfNone.value:\n",
    "    print(\"failed to open device\")\n",
    "    szerr = create_string_buffer(512)\n",
    "    dwf.FDwfGetLastErrorMsg(szerr)\n",
    "    print(str(szerr.value))\n",
    "    quit()"
   ],
   "metadata": {
    "collapsed": false,
    "pycharm": {
     "name": "#%%\n"
    }
   }
  },
  {
   "cell_type": "code",
   "execution_count": 1,
   "outputs": [
    {
     "ename": "NameError",
     "evalue": "name 'dwf' is not defined",
     "output_type": "error",
     "traceback": [
      "\u001B[1;31m---------------------------------------------------------------------------\u001B[0m",
      "\u001B[1;31mNameError\u001B[0m                                 Traceback (most recent call last)",
      "\u001B[1;32m<ipython-input-1-e768dea5555d>\u001B[0m in \u001B[0;36m<module>\u001B[1;34m\u001B[0m\n\u001B[1;32m----> 1\u001B[1;33m \u001B[0mdwf\u001B[0m\u001B[1;33m.\u001B[0m\u001B[0mFDwfDigitalOutEnableSet\u001B[0m\u001B[1;33m(\u001B[0m\u001B[0mhdwf\u001B[0m\u001B[1;33m,\u001B[0m\u001B[1;36m8\u001B[0m\u001B[1;33m,\u001B[0m \u001B[1;36m1\u001B[0m\u001B[1;33m)\u001B[0m\u001B[1;33m\u001B[0m\u001B[1;33m\u001B[0m\u001B[0m\n\u001B[0m\u001B[0;32m      2\u001B[0m \u001B[0mdwf\u001B[0m\u001B[1;33m.\u001B[0m\u001B[0mFDwfDigitalOutEnableSet\u001B[0m\u001B[1;33m(\u001B[0m\u001B[0mhdwf\u001B[0m\u001B[1;33m,\u001B[0m\u001B[1;36m9\u001B[0m\u001B[1;33m,\u001B[0m \u001B[1;36m1\u001B[0m\u001B[1;33m)\u001B[0m\u001B[1;33m\u001B[0m\u001B[1;33m\u001B[0m\u001B[0m\n\u001B[0;32m      3\u001B[0m \u001B[1;33m\u001B[0m\u001B[0m\n\u001B[0;32m      4\u001B[0m \u001B[0mprint\u001B[0m\u001B[1;33m(\u001B[0m\u001B[0mdwf\u001B[0m\u001B[1;33m.\u001B[0m\u001B[0mFDwfDigitalOutCount\u001B[0m\u001B[1;33m(\u001B[0m\u001B[0mhdwf\u001B[0m\u001B[1;33m)\u001B[0m\u001B[1;33m)\u001B[0m\u001B[1;33m\u001B[0m\u001B[1;33m\u001B[0m\u001B[0m\n\u001B[0;32m      5\u001B[0m \u001B[1;33m\u001B[0m\u001B[0m\n",
      "\u001B[1;31mNameError\u001B[0m: name 'dwf' is not defined"
     ]
    }
   ],
   "source": [
    "dwf.FDwfDigitalOutEnableSet(hdwf,8, 1)\n",
    "dwf.FDwfDigitalOutEnableSet(hdwf,9, 1)\n",
    "\n",
    "print(dwf.FDwfDigitalOutCount(hdwf))"
   ],
   "metadata": {
    "collapsed": false,
    "pycharm": {
     "name": "#%%\n"
    }
   }
  },
  {
   "cell_type": "code",
   "execution_count": null,
   "outputs": [],
   "source": [
    "# enable output/mask on 8 LSB IO pins, from DIO 0 to 7\n",
    "dwf.FDwfDigitalIOOutputEnableSet(hdwf, c_int(0x00FF))\n",
    "# set value on enabled IO pins\n",
    "dwf.FDwfDigitalIOOutputSet(hdwf, c_int(0x12))\n",
    "# fetch digital IO information from the device\n",
    "dwf.FDwfDigitalIOStatus(hdwf)\n",
    "# read state of all pins, regardless of output enable\n",
    "dwf.FDwfDigitalIOInputStatus(hdwf, byref(dwRead))\n",
    "\n",
    "print(\"DIO-0:\", (dwRead.value>>0)&1)\n",
    "print(\"DIO-1:\", (dwRead.value>>1)&1)\n",
    "\n",
    "#print(dwRead as bitfield (32 digits, removing 0b at the front)\n",
    "print(\"Digital IO Pins: \", bin(dwRead.value)[2:].zfill(16))\n",
    "\n",
    "dwf.FDwfDeviceClose(hdwf)"
   ],
   "metadata": {
    "collapsed": false,
    "pycharm": {
     "name": "#%%\n"
    }
   }
  },
  {
   "cell_type": "code",
   "execution_count": 10,
   "outputs": [
    {
     "data": {
      "text/plain": "0"
     },
     "execution_count": 10,
     "metadata": {},
     "output_type": "execute_result"
    }
   ],
   "source": [
    "#print(dwf.FDwfDigitalInStatus(hdwf,1))\n",
    "dwf.FDwfDeviceClose(hdwf)"
   ],
   "metadata": {
    "collapsed": false,
    "pycharm": {
     "name": "#%%\n"
    }
   }
  }
 ],
 "metadata": {
  "kernelspec": {
   "display_name": "Python 3",
   "language": "python",
   "name": "python3"
  },
  "language_info": {
   "codemirror_mode": {
    "name": "ipython",
    "version": 2
   },
   "file_extension": ".py",
   "mimetype": "text/x-python",
   "name": "python",
   "nbconvert_exporter": "python",
   "pygments_lexer": "ipython2",
   "version": "2.7.6"
  }
 },
 "nbformat": 4,
 "nbformat_minor": 0
}