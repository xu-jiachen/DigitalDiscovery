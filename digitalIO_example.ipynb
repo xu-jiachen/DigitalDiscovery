{
 "cells": [
  {
   "cell_type": "code",
   "execution_count": 39,
   "metadata": {
    "collapsed": true,
    "pycharm": {
     "name": "#%%\n"
    }
   },
   "outputs": [],
   "source": [
    "#Digital Discovery extra Python wrapper use case for low-speed digital I/O\n",
    "#Author: Jiachen Xu\n",
    "#Digital input: use pin 0-15\n",
    "#Digital output: use pin 24-39\n",
    "#Bug fixed for WF_SDK: https://github.com/Digilent/WaveForms-SDK-Getting-Started-PY/issues/4\n",
    "\n",
    "from WF_SDK import device, static, supplies, logic, pattern      # import instruments\n",
    "from time import sleep\n",
    "import time # needed for delays\n",
    "import ctypes                            # import the C compatible data types\n",
    "from ctypes import *\n",
    "from sys import platform                 # this is needed to check the OS type\n",
    "from digitalTestingLib import *\n",
    "\n",
    "# load the dynamic library (the path is OS specific)\n",
    "if platform.startswith(\"win\"):\n",
    "    # on Windows\n",
    "    dwf = ctypes.cdll.dwf\n",
    "elif platform.startswith(\"darwin\"):\n",
    "    # on macOS\n",
    "    dwf = ctypes.cdll.LoadLibrary(\"/Library/Frameworks/dwf.framework/dwf\")\n",
    "else:\n",
    "    # on Linux\n",
    "    dwf = ctypes.cdll.LoadLibrary(\"libdwf.so\")\n",
    "device_name = \"Analog Discovery 2\"\n",
    "device_name = \"Digital Discovery\""
   ]
  },
  {
   "cell_type": "code",
   "execution_count": 40,
   "outputs": [
    {
     "data": {
      "text/plain": "1"
     },
     "execution_count": 40,
     "metadata": {},
     "output_type": "execute_result"
    }
   ],
   "source": [
    "device_data = device.open() #currenly it will open the first device\n",
    "device_data.name = device_name\n",
    "logic.open(device_data,sampling_frequency=100e06, buffer_size=1) #logic analyzer as digital input\n",
    "#Set I/O voltage\n",
    "dwf.FDwfAnalogIOChannelNodeSet(device_data.handle, c_int(0), c_int(0), c_double(1.8))\n",
    "# enable VIO output\n",
    "dwf.FDwfAnalogIOEnableSet(device_data.handle, c_int(True))\n",
    "# # configure week pull for DIN lines, 0.0 low, 0.5 middle, 1 high\n",
    "# dwf.FDwfAnalogIOChannelNodeSet(device_data.handle, c_int(0), c_int(1), c_double(0.5))\n",
    "# # pull enable for DIO 39 to 24, bit 15 to 0\n",
    "# dwf.FDwfAnalogIOChannelNodeSet(device_data.handle, c_int(0), c_int(2), c_double(0x0081)) # DIO7 and DIO0\n",
    "# # pull up/down for DIO\n",
    "# dwf.FDwfAnalogIOChannelNodeSet(device_data.handle, c_int(0), c_int(3), c_double(0x0080)) # DIO7 pull up and DIO0 pull down\n",
    "# # drive strength for DIO lines: 0 (auto based on digital voltage), 2, 4, 6, 8, 12, 16 (mA)\n",
    "# dwf.FDwfAnalogIOChannelNodeSet(device_data.handle, c_int(0), c_int(4), c_double(8))\n",
    "# # slew rate for DIO lines: 0 quietio, 1 slow, 2 fast\n",
    "# dwf.FDwfAnalogIOChannelNodeSet(device_data.handle, c_int(0), c_int(5), c_double(0))"
   ],
   "metadata": {
    "collapsed": false,
    "pycharm": {
     "name": "#%%\n"
    }
   }
  },
  {
   "cell_type": "code",
   "execution_count": 5,
   "outputs": [],
   "source": [
    "# Digital I/O Example\n",
    "# Physically connect pin 24 (output) to pin 0\n",
    "test_out_pin = digitalOutput(device_data,24)\n",
    "test_out_pin.set(1)"
   ],
   "metadata": {
    "collapsed": false,
    "pycharm": {
     "name": "#%%\n"
    }
   }
  },
  {
   "cell_type": "code",
   "execution_count": 6,
   "outputs": [
    {
     "name": "stdout",
     "output_type": "stream",
     "text": [
      "1\n"
     ]
    }
   ],
   "source": [
    "test_in_pin = digitalInput(device_data, 0)\n",
    "print(test_in_pin.read())\n"
   ],
   "metadata": {
    "collapsed": false,
    "pycharm": {
     "name": "#%%\n"
    }
   }
  },
  {
   "cell_type": "code",
   "execution_count": 4,
   "outputs": [],
   "source": [
    "# Clock Example\n",
    "clk = digitalSimClock(device_data,25,0.00001)"
   ],
   "metadata": {
    "collapsed": false,
    "pycharm": {
     "name": "#%%\n"
    }
   }
  },
  {
   "cell_type": "code",
   "execution_count": 57,
   "outputs": [
    {
     "name": "stdout",
     "output_type": "stream",
     "text": [
      "0\n"
     ]
    },
    {
     "ename": "error",
     "evalue": "Error: static -> set_state -> Invalid device handle provided\n",
     "output_type": "error",
     "traceback": [
      "\u001B[1;31m---------------------------------------------------------------------------\u001B[0m",
      "\u001B[1;31merror\u001B[0m                                     Traceback (most recent call last)",
      "\u001B[1;32m<ipython-input-57-5b6af91a85c7>\u001B[0m in \u001B[0;36m<module>\u001B[1;34m\u001B[0m\n\u001B[0;32m      1\u001B[0m \u001B[0mprint\u001B[0m\u001B[1;33m(\u001B[0m\u001B[0mclk\u001B[0m\u001B[1;33m.\u001B[0m\u001B[0mstate\u001B[0m\u001B[1;33m)\u001B[0m\u001B[1;33m\u001B[0m\u001B[1;33m\u001B[0m\u001B[0m\n\u001B[1;32m----> 2\u001B[1;33m \u001B[0mclk\u001B[0m\u001B[1;33m.\u001B[0m\u001B[0mhigh\u001B[0m\u001B[1;33m(\u001B[0m\u001B[1;33m)\u001B[0m\u001B[1;33m\u001B[0m\u001B[1;33m\u001B[0m\u001B[0m\n\u001B[0m\u001B[0;32m      3\u001B[0m \u001B[0mprint\u001B[0m\u001B[1;33m(\u001B[0m\u001B[0mclk\u001B[0m\u001B[1;33m.\u001B[0m\u001B[0mstate\u001B[0m\u001B[1;33m)\u001B[0m\u001B[1;33m\u001B[0m\u001B[1;33m\u001B[0m\u001B[0m\n\u001B[0;32m      4\u001B[0m \u001B[0mclk\u001B[0m\u001B[1;33m.\u001B[0m\u001B[0mlow\u001B[0m\u001B[1;33m(\u001B[0m\u001B[1;33m)\u001B[0m\u001B[1;33m\u001B[0m\u001B[1;33m\u001B[0m\u001B[0m\n\u001B[0;32m      5\u001B[0m \u001B[0mprint\u001B[0m\u001B[1;33m(\u001B[0m\u001B[0mclk\u001B[0m\u001B[1;33m.\u001B[0m\u001B[0mstate\u001B[0m\u001B[1;33m)\u001B[0m\u001B[1;33m\u001B[0m\u001B[1;33m\u001B[0m\u001B[0m\n",
      "\u001B[1;32mD:\\18726\\DigitalDiscovery\\digitalTestingLib.py\u001B[0m in \u001B[0;36mhigh\u001B[1;34m(self)\u001B[0m\n\u001B[0;32m     42\u001B[0m     \u001B[1;31m# Define a method to print the car's information\u001B[0m\u001B[1;33m\u001B[0m\u001B[1;33m\u001B[0m\u001B[1;33m\u001B[0m\u001B[0m\n\u001B[0;32m     43\u001B[0m     \u001B[1;32mdef\u001B[0m \u001B[0mhigh\u001B[0m\u001B[1;33m(\u001B[0m\u001B[0mself\u001B[0m\u001B[1;33m)\u001B[0m\u001B[1;33m:\u001B[0m\u001B[1;33m\u001B[0m\u001B[1;33m\u001B[0m\u001B[0m\n\u001B[1;32m---> 44\u001B[1;33m         \u001B[0mstatic\u001B[0m\u001B[1;33m.\u001B[0m\u001B[0mset_state\u001B[0m\u001B[1;33m(\u001B[0m\u001B[0mself\u001B[0m\u001B[1;33m.\u001B[0m\u001B[0mdevice_data\u001B[0m\u001B[1;33m,\u001B[0m \u001B[0mself\u001B[0m\u001B[1;33m.\u001B[0m\u001B[0mchannel\u001B[0m\u001B[1;33m,\u001B[0m \u001B[1;36m1\u001B[0m\u001B[1;33m)\u001B[0m\u001B[1;33m\u001B[0m\u001B[1;33m\u001B[0m\u001B[0m\n\u001B[0m\u001B[0;32m     45\u001B[0m         \u001B[0mself\u001B[0m\u001B[1;33m.\u001B[0m\u001B[0mstate\u001B[0m \u001B[1;33m=\u001B[0m \u001B[1;36m1\u001B[0m\u001B[1;33m\u001B[0m\u001B[1;33m\u001B[0m\u001B[0m\n\u001B[0;32m     46\u001B[0m     \u001B[1;32mdef\u001B[0m \u001B[0mlow\u001B[0m\u001B[1;33m(\u001B[0m\u001B[0mself\u001B[0m\u001B[1;33m)\u001B[0m\u001B[1;33m:\u001B[0m\u001B[1;33m\u001B[0m\u001B[1;33m\u001B[0m\u001B[0m\n",
      "\u001B[1;32mD:\\18726\\DigitalDiscovery\\WF_SDK\\static.py\u001B[0m in \u001B[0;36mset_state\u001B[1;34m(device_data, channel, value)\u001B[0m\n\u001B[0;32m    131\u001B[0m     \u001B[0mmask\u001B[0m \u001B[1;33m=\u001B[0m \u001B[0mctypes\u001B[0m\u001B[1;33m.\u001B[0m\u001B[0mc_uint16\u001B[0m\u001B[1;33m(\u001B[0m\u001B[1;33m)\u001B[0m\u001B[1;33m\u001B[0m\u001B[1;33m\u001B[0m\u001B[0m\n\u001B[0;32m    132\u001B[0m     \u001B[1;32mif\u001B[0m \u001B[0mdwf\u001B[0m\u001B[1;33m.\u001B[0m\u001B[0mFDwfDigitalIOOutputGet\u001B[0m\u001B[1;33m(\u001B[0m\u001B[0mdevice_data\u001B[0m\u001B[1;33m.\u001B[0m\u001B[0mhandle\u001B[0m\u001B[1;33m,\u001B[0m \u001B[0mctypes\u001B[0m\u001B[1;33m.\u001B[0m\u001B[0mbyref\u001B[0m\u001B[1;33m(\u001B[0m\u001B[0mmask\u001B[0m\u001B[1;33m)\u001B[0m\u001B[1;33m)\u001B[0m \u001B[1;33m==\u001B[0m \u001B[1;36m0\u001B[0m\u001B[1;33m:\u001B[0m\u001B[1;33m\u001B[0m\u001B[1;33m\u001B[0m\u001B[0m\n\u001B[1;32m--> 133\u001B[1;33m         \u001B[0mcheck_error\u001B[0m\u001B[1;33m(\u001B[0m\u001B[1;33m)\u001B[0m\u001B[1;33m\u001B[0m\u001B[1;33m\u001B[0m\u001B[0m\n\u001B[0m\u001B[0;32m    134\u001B[0m     \u001B[0mmask\u001B[0m \u001B[1;33m=\u001B[0m \u001B[0mmask\u001B[0m\u001B[1;33m.\u001B[0m\u001B[0mvalue\u001B[0m\u001B[1;33m\u001B[0m\u001B[1;33m\u001B[0m\u001B[0m\n\u001B[0;32m    135\u001B[0m     \u001B[1;31m# set bit in mask\u001B[0m\u001B[1;33m\u001B[0m\u001B[1;33m\u001B[0m\u001B[1;33m\u001B[0m\u001B[0m\n",
      "\u001B[1;32mD:\\18726\\DigitalDiscovery\\WF_SDK\\device.py\u001B[0m in \u001B[0;36mcheck_error\u001B[1;34m()\u001B[0m\n\u001B[0;32m    227\u001B[0m         \u001B[0mpath_list\u001B[0m \u001B[1;33m=\u001B[0m \u001B[0merr_inst\u001B[0m\u001B[1;33m.\u001B[0m\u001B[0msplit\u001B[0m\u001B[1;33m(\u001B[0m\u001B[1;34m'\\\\'\u001B[0m\u001B[1;33m)\u001B[0m\u001B[1;33m\u001B[0m\u001B[1;33m\u001B[0m\u001B[0m\n\u001B[0;32m    228\u001B[0m         \u001B[0merr_inst\u001B[0m \u001B[1;33m=\u001B[0m \u001B[0mpath_list\u001B[0m\u001B[1;33m[\u001B[0m\u001B[1;33m-\u001B[0m\u001B[1;36m1\u001B[0m\u001B[1;33m]\u001B[0m\u001B[1;33m\u001B[0m\u001B[1;33m\u001B[0m\u001B[0m\n\u001B[1;32m--> 229\u001B[1;33m         \u001B[1;32mraise\u001B[0m \u001B[0merror\u001B[0m\u001B[1;33m(\u001B[0m\u001B[0merr_msg\u001B[0m\u001B[1;33m,\u001B[0m \u001B[0merr_func\u001B[0m\u001B[1;33m,\u001B[0m \u001B[0merr_inst\u001B[0m\u001B[1;33m)\u001B[0m\u001B[1;33m\u001B[0m\u001B[1;33m\u001B[0m\u001B[0m\n\u001B[0m\u001B[0;32m    230\u001B[0m     \u001B[1;32mreturn\u001B[0m\u001B[1;33m\u001B[0m\u001B[1;33m\u001B[0m\u001B[0m\n\u001B[0;32m    231\u001B[0m \u001B[1;33m\u001B[0m\u001B[0m\n",
      "\u001B[1;31merror\u001B[0m: Error: static -> set_state -> Invalid device handle provided\n"
     ]
    }
   ],
   "source": [
    "print(clk.state)\n",
    "clk.high()\n",
    "print(clk.state)\n",
    "clk.low()\n",
    "print(clk.state)\n",
    "clk.flip()\n",
    "print(clk.state)\n",
    "clk.negedge()\n",
    "\n",
    "#clk.run(1000000)\n",
    "start = time.time()\n",
    "for i in range(10000):\n",
    "    clk.negedge()\n",
    "    #time.sleep(0.00001)\n",
    "    #clk.low()\n",
    "    #time.sleep(0.00001)\n",
    "end = time.time()\n",
    "print(end-start)"
   ],
   "metadata": {
    "collapsed": false,
    "pycharm": {
     "name": "#%%\n"
    }
   }
  },
  {
   "cell_type": "code",
   "execution_count": 37,
   "outputs": [
    {
     "data": {
      "text/plain": "1"
     },
     "execution_count": 37,
     "metadata": {},
     "output_type": "execute_result"
    }
   ],
   "source": [
    "clk.state"
   ],
   "metadata": {
    "collapsed": false,
    "pycharm": {
     "name": "#%%\n"
    }
   }
  },
  {
   "cell_type": "code",
   "execution_count": 42,
   "outputs": [],
   "source": [
    "#Pattern Generator\n",
    "#pattern.generate(device_data, channel=24, function=pattern.function.pulse, frequency=3e03)\n",
    "#pattern.close(device_data)\n",
    "pattern.generate(device_data, channel=24, function=pattern.function.pulse, frequency=1e03)\n",
    "pattern.generate(device_data, channel=25, function=pattern.function.pulse, frequency=1e03)\n",
    "pattern.generate(device_data, channel=26, function=pattern.function.pulse, frequency=1e03)"
   ],
   "metadata": {
    "collapsed": false,
    "pycharm": {
     "name": "#%%\n"
    }
   }
  },
  {
   "cell_type": "code",
   "execution_count": 28,
   "outputs": [],
   "source": [
    "#output = digitalOutput(device_data,25)\n",
    "#output.set(1)"
   ],
   "metadata": {
    "collapsed": false,
    "pycharm": {
     "name": "#%%\n"
    }
   }
  },
  {
   "cell_type": "code",
   "execution_count": 38,
   "outputs": [],
   "source": [
    "device.close(device_data)\n",
    "\n",
    "\n",
    "\n",
    "\n",
    "\n"
   ],
   "metadata": {
    "collapsed": false,
    "pycharm": {
     "name": "#%%\n"
    }
   }
  }
 ],
 "metadata": {
  "kernelspec": {
   "display_name": "Python 3",
   "language": "python",
   "name": "python3"
  },
  "language_info": {
   "codemirror_mode": {
    "name": "ipython",
    "version": 2
   },
   "file_extension": ".py",
   "mimetype": "text/x-python",
   "name": "python",
   "nbconvert_exporter": "python",
   "pygments_lexer": "ipython2",
   "version": "2.7.6"
  }
 },
 "nbformat": 4,
 "nbformat_minor": 0
}