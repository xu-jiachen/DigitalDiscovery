{
 "cells": [
  {
   "cell_type": "code",
   "execution_count": 1,
   "metadata": {
    "collapsed": true
   },
   "outputs": [],
   "source": [
    "#18726 RLNN Chip testing\n",
    "from WF_SDK import device, static, supplies, logic       # import instruments\n",
    "from time import sleep\n",
    "import time # needed for delays\n",
    "import ctypes                            # import the C compatible data types\n",
    "from ctypes import *\n",
    "from sys import platform                 # this is needed to check the OS type\n",
    "from digitalTestingLib import *\n",
    "\n",
    "# load the dynamic library (the path is OS specific)\n",
    "if platform.startswith(\"win\"):\n",
    "    # on Windows\n",
    "    dwf = ctypes.cdll.dwf\n",
    "elif platform.startswith(\"darwin\"):\n",
    "    # on macOS\n",
    "    dwf = ctypes.cdll.LoadLibrary(\"/Library/Frameworks/dwf.framework/dwf\")\n",
    "else:\n",
    "    # on Linux\n",
    "    dwf = ctypes.cdll.LoadLibrary(\"libdwf.so\")\n",
    "device_name = \"Analog Discovery 2\"\n",
    "device_name = \"Digital Discovery\""
   ]
  },
  {
   "cell_type": "code",
   "execution_count": 2,
   "outputs": [
    {
     "data": {
      "text/plain": "1"
     },
     "execution_count": 2,
     "metadata": {},
     "output_type": "execute_result"
    }
   ],
   "source": [
    "#Open the device and set some default values\n",
    "device_data = device.open() #currenly it will open the first device\n",
    "device_data.name = device_name\n",
    "logic.open(device_data,sampling_frequency=100e06, buffer_size=1) #logic analyzer as digital input\n",
    "dwf.FDwfAnalogIOChannelNodeSet(device_data.handle, c_int(0), c_int(0), c_double(1.8))\n",
    "dwf.FDwfAnalogIOEnableSet(device_data.handle, c_int(True))"
   ],
   "metadata": {
    "collapsed": false,
    "pycharm": {
     "name": "#%%\n"
    }
   }
  },
  {
   "cell_type": "code",
   "execution_count": 3,
   "outputs": [
    {
     "name": "stdout",
     "output_type": "stream",
     "text": [
      "c_double(100000000.0)\n"
     ]
    }
   ],
   "source": [
    "internal_frequency = ctypes.c_double()\n",
    "dwf.FDwfDigitalOutInternalClockInfo(device_data.handle, ctypes.byref(internal_frequency))\n",
    "print(internal_frequency)"
   ],
   "metadata": {
    "collapsed": false,
    "pycharm": {
     "name": "#%%\n"
    }
   }
  },
  {
   "cell_type": "code",
   "execution_count": null,
   "outputs": [],
   "source": [
    "#Define the physical connections\n",
    "#Clock\n",
    "clk_sel  = digitalOutput(device_data,24)\n",
    "clk_sys  = digitalOutput(device_data,25)\n",
    "clk_scan  = digitalOutput(device_data,26)\n",
    "rst_b  = digitalOutput(device_data,27)\n",
    "#NN OP\n",
    "nn_start = digitalOutput(device_data,28)\n",
    "\n",
    "nn_busy = digitalInput(device_data,0)\n",
    "nn_done = digitalInput(device_data,1)\n",
    "#Register Map Scan Chain\n",
    "scan_in_regmap = digitalOutput(device_data,29)\n",
    "scan_in_en_regmap = digitalOutput(device_data,30)\n",
    "scan_out_en_regmap = digitalOutput(device_data,31)\n",
    "\n",
    "scan_out_regmap = digitalInput(device_data,2)\n",
    "#Bias/debug Scan Chain\n",
    "scan_en = digitalOutput(device_data,32)\n",
    "scan_in = digitalOutput(device_data,33)\n",
    "\n",
    "scan_out = digitalInput(device_data,3)\n",
    "#SRAM Scan Chain\n",
    "scan_in_sram = digitalOutput(device_data,34)\n",
    "scan_in_en_sram = digitalOutput(device_data,35)\n",
    "scan_out_en_sram = digitalOutput(device_data,36)\n",
    "\n",
    "scan_out_sram = digitalInput(device_data,4)"
   ],
   "metadata": {
    "collapsed": false,
    "pycharm": {
     "name": "#%%\n"
    }
   }
  },
  {
   "cell_type": "code",
   "execution_count": 4,
   "outputs": [],
   "source": [
    "device.close(device_data)"
   ],
   "metadata": {
    "collapsed": false,
    "pycharm": {
     "name": "#%%\n"
    }
   }
  }
 ],
 "metadata": {
  "kernelspec": {
   "display_name": "Python 3",
   "language": "python",
   "name": "python3"
  },
  "language_info": {
   "codemirror_mode": {
    "name": "ipython",
    "version": 2
   },
   "file_extension": ".py",
   "mimetype": "text/x-python",
   "name": "python",
   "nbconvert_exporter": "python",
   "pygments_lexer": "ipython2",
   "version": "2.7.6"
  }
 },
 "nbformat": 4,
 "nbformat_minor": 0
}